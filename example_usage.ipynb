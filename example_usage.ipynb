{
 "cells": [
  {
   "cell_type": "markdown",
   "metadata": {},
   "source": [
    "# Sinusoidal Baseline Correction - Example Usage\n",
    "\n",
    "This notebook demonstrates how to use the sinusoidal baseline correction program for spectroscopic data.\n",
    "\n",
    "## Setup\n",
    "\n",
    "First, upload the `sinusoidal_baseline_correction.py` file to your Colab environment."
   ]
  },
  {
   "cell_type": "code",
   "execution_count": null,
   "metadata": {},
   "outputs": [],
   "source": [
    "# Load the baseline correction program\n",
    "exec(open('sinusoidal_baseline_correction.py').read())\n",
    "\n",
    "print(\"✓ Sinusoidal baseline correction program loaded successfully!\")\n",
    "print(\"\\nAvailable functions:\")\n",
    "print(\"- main(): Complete workflow with file upload\")\n",
    "print(\"- demo_with_synthetic_data(): Create demonstration data\")\n",
    "print(\"- SpectroscopicBaselineCorrector: Main class for custom workflows\")"
   ]
  },
  {
   "cell_type": "markdown",
   "metadata": {},
   "source": [
    "## Option 1: Quick Start with Demo Data\n",
    "\n",
    "Create synthetic demonstration data to test the program:"
   ]
  },
  {
   "cell_type": "code",
   "execution_count": null,
   "metadata": {},
   "outputs": [],
   "source": [
    "# Create synthetic demonstration data\n",
    "demo_with_synthetic_data()\n",
    "\n",
    "print(\"\\nDemo files created! You can now upload these files in the next step.\")"
   ]
  },
  {
   "cell_type": "markdown",
   "metadata": {},
   "source": [
    "## Option 2: Complete Workflow\n",
    "\n",
    "Run the complete baseline correction workflow:"
   ]
  },
  {
   "cell_type": "code",
   "execution_count": null,
   "metadata": {},
   "outputs": [],
   "source": [
    "# Run the complete workflow\n",
    "corrector, results = main()\n",
    "\n",
    "print(\"\\nWorkflow completed! Check the results above.\")"
   ]
  },
  {
   "cell_type": "markdown",
   "metadata": {},
   "source": [
    "## Option 3: Step-by-Step Custom Workflow\n",
    "\n",
    "For more control over the process:"
   ]
  },
  {
   "cell_type": "code",
   "execution_count": null,
   "metadata": {},
   "outputs": [],
   "source": [
    "# Initialize the corrector\n",
    "corrector = SpectroscopicBaselineCorrector()\n",
    "\n",
    "print(\"Baseline corrector initialized.\")\n",
    "print(\"Next: Upload your files using corrector.upload_files()\")"
   ]
  },
  {
   "cell_type": "code",
   "execution_count": null,
   "metadata": {},
   "outputs": [],
   "source": [
    "# Upload files\n",
    "reference_file, data_files = corrector.upload_files()\n",
    "\n",
    "print(f\"\\nFiles loaded:\")\n",
    "print(f\"Reference: {reference_file}\")\n",
    "print(f\"Data files: {data_files}\")"
   ]
  },
  {
   "cell_type": "code",
   "execution_count": null,
   "metadata": {},
   "outputs": [],
   "source": [
    "# Detect and set threshold\n",
    "threshold = corrector.set_threshold(interactive=True)\n",
    "\n",
    "print(f\"\\nThreshold set to: {threshold:.6f}\")"
   ]
  },
  {
   "cell_type": "code",
   "execution_count": null,
   "metadata": {},
   "outputs": [],
   "source": [
    "# Process a single file (optional - for testing)\n",
    "if data_files:\n",
    "    test_file = data_files[0]\n",
    "    print(f\"Processing test file: {test_file}\")\n",
    "    \n",
    "    result = corrector.correct_spectrum(test_file, plot=True)\n",
    "    \n",
    "    print(f\"\\nTest processing completed for {test_file}\")"
   ]
  },
  {
   "cell_type": "code",
   "execution_count": null,
   "metadata": {},
   "outputs": [],
   "source": [
    "# Process all files\n",
    "print(\"Processing all files...\")\n",
    "\n",
    "results = corrector.process_all_files(plot_individual=True)\n",
    "\n",
    "print(\"\\nBatch processing completed!\")"
   ]
  },
  {
   "cell_type": "code",
   "execution_count": null,
   "metadata": {},
   "outputs": [],
   "source": [
    "# Export results\n",
    "exported_files = corrector.export_results()\n",
    "\n",
    "print(f\"\\nExported {len(exported_files)} files\")\n",
    "print(\"Check your downloads for the corrected_spectra.zip file!\")"
   ]
  },
  {
   "cell_type": "markdown",
   "metadata": {},
   "source": [
    "## Analyzing Results\n",
    "\n",
    "You can access the results programmatically:"
   ]
  },
  {
   "cell_type": "code",
   "execution_count": null,
   "metadata": {},
   "outputs": [],
   "source": [
    "# Analyze results\n",
    "if 'results' in locals() and results:\n",
    "    print(\"Processing Summary:\")\n",
    "    print(\"=\" * 50)\n",
    "    \n",
    "    for filename, result in results.items():\n",
    "        if result is not None:\n",
    "            original_range = result['original_y'].max() - result['original_y'].min()\n",
    "            corrected_range = result['corrected_y'].max() - result['corrected_y'].min()\n",
    "            baseline_coverage = np.sum(result['baseline_mask']) / len(result['baseline_mask']) * 100\n",
    "            \n",
    "            print(f\"\\n{filename}:\")\n",
    "            print(f\"  Original range: {original_range:.4f}\")\n",
    "            print(f\"  Corrected range: {corrected_range:.4f}\")\n",
    "            print(f\"  Baseline coverage: {baseline_coverage:.1f}%\")\n",
    "            print(f\"  Data points: {len(result['original_x'])}\")\n",
    "        else:\n",
    "            print(f\"\\n{filename}: FAILED\")\nelse:\n",
    "    print(\"No results available. Run the processing steps first.\")"
   ]
  },
  {
   "cell_type": "markdown",
   "metadata": {},
   "source": [
    "## Creating Custom Plots\n",
    "\n",
    "You can create custom visualizations of the results:"
   ]
  },
  {
   "cell_type": "code",
   "execution_count": null,
   "metadata": {},
   "outputs": [],
   "source": [
    "# Create a summary plot of all corrected spectra\n",
    "if 'results' in locals() and results:\n",
    "    plt.figure(figsize=(12, 8))\n",
    "    \n",
    "    colors = plt.cm.tab10(np.linspace(0, 1, len(results)))\n",
    "    \n",
    "    for i, (filename, result) in enumerate(results.items()):\n",
    "        if result is not None:\n",
    "            plt.plot(result['original_x'], result['corrected_y'], \n",
    "                    color=colors[i], label=filename.replace('.csv', ''), alpha=0.8)\n",
    "    \n",
    "    plt.xlabel('Wavenumber')\n",
    "    plt.ylabel('Corrected Absorbance')\n",
    "    plt.title('All Baseline-Corrected Spectra')\n",
    "    plt.legend(bbox_to_anchor=(1.05, 1), loc='upper left')\n",
    "    plt.grid(True, alpha=0.3)\n",
    "    plt.tight_layout()\n",
    "    plt.show()\n",
    "    \n",
    "    print(f\"Summary plot created for {len([r for r in results.values() if r is not None])} spectra\")\nelse:\n",
    "    print(\"No results available for plotting.\")"
   ]
  },
  {
   "cell_type": "markdown",
   "metadata": {},
   "source": [
    "## Help and Documentation\n",
    "\n",
    "Get help on the available functions:"
   ]
  },
  {
   "cell_type": "code",
   "execution_count": null,
   "metadata": {},
   "outputs": [],
   "source": [
    "# Get help on the main class\n",
    "help(SpectroscopicBaselineCorrector)"
   ]
  },
  {
   "cell_type": "code",
   "execution_count": null,
   "metadata": {},
   "outputs": [],
   "source": [
    "# Get help on specific methods\n",
    "help(SpectroscopicBaselineCorrector.complex_sinusoidal_baseline)"
   ]
  },
  {
   "cell_type": "markdown",
   "metadata": {},
   "source": [
    "## Troubleshooting\n",
    "\n",
    "If you encounter issues:\n",
    "\n",
    "1. **File format**: Ensure CSV files have no headers, with wavenumber in column 1 and absorbance in column 2\n",
    "2. **Reference file**: Must end with `_normalbaseline.csv`\n",
    "3. **Threshold**: Try adjusting the threshold if baseline detection is poor\n",
    "4. **Data quality**: Ensure your reference baseline is clean and representative\n",
    "\n",
    "For more detailed troubleshooting, see the README.md file."
   ]
  }
 ],
 "metadata": {
  "kernelspec": {
   "display_name": "Python 3",
   "language": "python",
   "name": "python3"
  },
  "language_info": {
   "codemirror_mode": {
    "name": "ipython",
    "version": 3
   },
   "file_extension": ".py",
   "mimetype": "text/x-python",
   "name": "python",
   "nbconvert_exporter": "python",
   "pygments_lexer": "ipython3",
   "version": "3.8.5"
  }
 },
 "nbformat": 4,
 "nbformat_minor": 4
}
